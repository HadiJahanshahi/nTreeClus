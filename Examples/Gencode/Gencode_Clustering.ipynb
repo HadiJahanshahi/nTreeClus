{
 "cells": [
  {
   "cell_type": "markdown",
   "metadata": {},
   "source": [
    "# Reading the Dataset"
   ]
  },
  {
   "cell_type": "code",
   "execution_count": 1,
   "metadata": {},
   "outputs": [
    {
     "data": {
      "text/html": [
       "<div>\n",
       "<style scoped>\n",
       "    .dataframe tbody tr th:only-of-type {\n",
       "        vertical-align: middle;\n",
       "    }\n",
       "\n",
       "    .dataframe tbody tr th {\n",
       "        vertical-align: top;\n",
       "    }\n",
       "\n",
       "    .dataframe thead th {\n",
       "        text-align: right;\n",
       "    }\n",
       "</style>\n",
       "<table border=\"1\" class=\"dataframe\">\n",
       "  <thead>\n",
       "    <tr style=\"text-align: right;\">\n",
       "      <th></th>\n",
       "      <th>transcript-id</th>\n",
       "      <th>gene-id</th>\n",
       "      <th>Havana-gene-id (if the gene contains manually annotated transcripts, '-' otherwise)</th>\n",
       "      <th>Havana-transcript-id (if this transcript was manually annotated, '-' otherwise)</th>\n",
       "      <th>transcript-name</th>\n",
       "      <th>gene-name</th>\n",
       "      <th>sequence-length</th>\n",
       "      <th>transcript biotype</th>\n",
       "      <th>sequence</th>\n",
       "    </tr>\n",
       "  </thead>\n",
       "  <tbody>\n",
       "    <tr>\n",
       "      <th>0</th>\n",
       "      <td>ENST00000419542.5</td>\n",
       "      <td>ENSG00000179818.16</td>\n",
       "      <td>OTTHUMG00000153728.26</td>\n",
       "      <td>OTTHUMT00000329417.2</td>\n",
       "      <td>PCBP1-AS1-214</td>\n",
       "      <td>PCBP1-AS1</td>\n",
       "      <td>4041</td>\n",
       "      <td>lncRNA</td>\n",
       "      <td>CGCCATGTTTCCTGAACACAAAATGGCGACACGTGGTTAGCATTCG...</td>\n",
       "    </tr>\n",
       "    <tr>\n",
       "      <th>1</th>\n",
       "      <td>ENST00000682294.1</td>\n",
       "      <td>ENSG00000179818.16</td>\n",
       "      <td>OTTHUMG00000153728.26</td>\n",
       "      <td>-</td>\n",
       "      <td>PCBP1-AS1-440</td>\n",
       "      <td>PCBP1-AS1</td>\n",
       "      <td>4755</td>\n",
       "      <td>lncRNA</td>\n",
       "      <td>TTTTTGCCGGTTCTTCCCGCTGAGGAAGTGTCGCTCAAGACGCTGG...</td>\n",
       "    </tr>\n",
       "  </tbody>\n",
       "</table>\n",
       "</div>"
      ],
      "text/plain": [
       "       transcript-id             gene-id  \\\n",
       "0  ENST00000419542.5  ENSG00000179818.16   \n",
       "1  ENST00000682294.1  ENSG00000179818.16   \n",
       "\n",
       "  Havana-gene-id (if the gene contains manually annotated transcripts, '-' otherwise)  \\\n",
       "0                              OTTHUMG00000153728.26                                    \n",
       "1                              OTTHUMG00000153728.26                                    \n",
       "\n",
       "  Havana-transcript-id (if this transcript was manually annotated, '-' otherwise)  \\\n",
       "0                               OTTHUMT00000329417.2                                \n",
       "1                                                  -                                \n",
       "\n",
       "  transcript-name  gene-name  sequence-length transcript biotype  \\\n",
       "0   PCBP1-AS1-214  PCBP1-AS1             4041             lncRNA   \n",
       "1   PCBP1-AS1-440  PCBP1-AS1             4755             lncRNA   \n",
       "\n",
       "                                            sequence  \n",
       "0  CGCCATGTTTCCTGAACACAAAATGGCGACACGTGGTTAGCATTCG...  \n",
       "1  TTTTTGCCGGTTCTTCCCGCTGAGGAAGTGTCGCTCAAGACGCTGG...  "
      ]
     },
     "execution_count": 1,
     "metadata": {},
     "output_type": "execute_result"
    }
   ],
   "source": [
    "import pandas as pd\n",
    "\n",
    "csv_available     = True\n",
    "\"\"\"First unzip the dataset genecode.v39.csv.gz in the same folder.\"\"\"\n",
    "df                = pd.read_csv(\"genecode.csv\")\n",
    "df_copy           = df.copy()\n",
    "most_repeated_seq = list(df_copy['gene-id'].value_counts()[:10].index)\n",
    "filtered_df       = df_copy[df_copy['gene-id'].isin(most_repeated_seq)].copy()\n",
    "filtered_df.reset_index(inplace=True, drop=True)\n",
    "filtered_df.head(2)"
   ]
  },
  {
   "cell_type": "markdown",
   "metadata": {},
   "source": [
    "# Fitting nTreeClus"
   ]
  },
  {
   "cell_type": "code",
   "execution_count": 2,
   "metadata": {},
   "outputs": [
    {
     "name": "stderr",
     "output_type": "stream",
     "text": [
      "Matrix Segmentation (Splitting based on window size):   3%|▎         | 60/1728 [00:00<00:02, 564.22it/s]"
     ]
    },
    {
     "name": "stdout",
     "output_type": "stream",
     "text": [
      "Finding the parameter 'n'\n",
      "Parameter 'n' is set to 42\n"
     ]
    },
    {
     "name": "stderr",
     "output_type": "stream",
     "text": [
      "Matrix Segmentation (Splitting based on window size): 100%|██████████| 1728/1728 [00:04<00:00, 359.00it/s]\n"
     ]
    },
    {
     "name": "stdout",
     "output_type": "stream",
     "text": [
      "one-hot encoding + x/y train\n",
      "Fit DT\n",
      "DataFrame of terminal nodes\n",
      "Determining the cosine Distance\n",
      "Applying Ward Linkage\n",
      "Cutting The Tree\n",
      "Fit DT + POSITION\n",
      "DataFrame of terminal nodes\n",
      "Determining the cosine Distance\n",
      "Applying Ward Linkage\n",
      "Cutting The Tree\n",
      "Fit RF\n",
      "DataFrame of terminal nodes\n",
      "Determining the cosine Distance\n",
      "Applying Ward Linkage\n",
      "Cutting The Tree\n",
      "Fit RF + POSITION\n",
      "DataFrame of terminal nodes\n",
      "Determining the cosine Distance\n",
      "Applying Ward Linkage\n",
      "Cutting The Tree\n",
      "        F1S    ARS     RS    Pur    Sil    1NN\n",
      "DT    0.859  0.690  0.936  0.852  0.491  0.999\n",
      "RF    0.860  0.696  0.938  0.855  0.498  0.999\n",
      "DT_p  0.872  0.724  0.945  0.867  0.491  0.999\n",
      "RF_p  0.870  0.718  0.943  0.865  0.491  0.999 \n",
      " ############ \n",
      "\n",
      "\n"
     ]
    }
   ],
   "source": [
    "import nTreeClus\n",
    "from tqdm import tqdm\n",
    "def convert_label_to_values (column):\n",
    "    unique_lables    = list(column.unique())\n",
    "    n_lables         = len(unique_lables)\n",
    "    map_dict         = dict(zip(unique_lables, range(n_lables)))\n",
    "    return column.map(map_dict)\n",
    "n_clusters = len(filtered_df['gene-id'].unique())\n",
    "labels     = list(convert_label_to_values(filtered_df['gene-id']))\n",
    "model      = nTreeClus.nTreeClus(list(filtered_df.sequence), n=None, ntree=10, method=\"All\", verbose=1, C=n_clusters)\n",
    "model.nTreeClus()\n",
    "\n",
    "print(model.performance(Ground_Truth = labels), f'\\n ############ \\n\\n')"
   ]
  },
  {
   "cell_type": "markdown",
   "metadata": {},
   "source": [
    "# Executing Time (Sec.)"
   ]
  },
  {
   "cell_type": "code",
   "execution_count": 3,
   "metadata": {},
   "outputs": [
    {
     "name": "stdout",
     "output_type": "stream",
     "text": [
      "\n",
      "      running_time Matrix Segmentation: 18,\n",
      "      running_time DT: 96,\n",
      "      running_time DT_p: 100,\n",
      "      running_time RF: 396,\n",
      "      running_time RF_p: 397.\n",
      "      \n"
     ]
    }
   ],
   "source": [
    "print(f\"\"\"\n",
    "      running_time Matrix Segmentation: {model.running_timeSegmentation},\n",
    "      running_time DT: {model.running_timeDT},\n",
    "      running_time DT_p: {model.running_timeDT_p},\n",
    "      running_time RF: {model.running_timeRF},\n",
    "      running_time RF_p: {model.running_timeRF_p}.\n",
    "      \"\"\")"
   ]
  },
  {
   "cell_type": "code",
   "execution_count": 4,
   "metadata": {},
   "outputs": [
    {
     "data": {
      "text/plain": [
       "{'platform': 'Linux',\n",
       " 'platform-release': '4.9.0-11-amd64',\n",
       " 'platform-version': '#1 SMP Debian 4.9.189-3 (2019-09-02)',\n",
       " 'architecture': 'x86_64',\n",
       " 'processor': 'Processor: Intel(R) Core(TM) i9-9900K CPU @ 3.60GHz',\n",
       " 'ram': '126 GB'}"
      ]
     },
     "execution_count": 4,
     "metadata": {},
     "output_type": "execute_result"
    }
   ],
   "source": [
    "import platform,json,psutil,logging,cpuinfo\n",
    "\n",
    "def getSystemInfo():\n",
    "    try:\n",
    "        info={}\n",
    "        info['platform']=platform.system()\n",
    "        info['platform-release']=platform.release()\n",
    "        info['platform-version']=platform.version()\n",
    "        info['architecture']=platform.machine()\n",
    "        info['processor']=f\"Processor: {cpuinfo.get_cpu_info()['brand_raw']}\"\n",
    "        info['ram']=str(round(psutil.virtual_memory().total / (1024.0 **3)))+\" GB\"\n",
    "        return json.dumps(info)\n",
    "    except Exception as e:\n",
    "        logging.exception(e)\n",
    "\n",
    "json.loads(getSystemInfo())"
   ]
  }
 ],
 "metadata": {
  "interpreter": {
   "hash": "40d3a090f54c6569ab1632332b64b2c03c39dcf918b08424e98f38b5ae0af88f"
  },
  "kernelspec": {
   "display_name": "Python 3.7.0 64-bit ('base': conda)",
   "language": "python",
   "name": "python3"
  },
  "language_info": {
   "codemirror_mode": {
    "name": "ipython",
    "version": 3
   },
   "file_extension": ".py",
   "mimetype": "text/x-python",
   "name": "python",
   "nbconvert_exporter": "python",
   "pygments_lexer": "ipython3",
   "version": "3.7.0"
  },
  "orig_nbformat": 4
 },
 "nbformat": 4,
 "nbformat_minor": 2
}
