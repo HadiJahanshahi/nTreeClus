{
 "cells": [
  {
   "cell_type": "markdown",
   "id": "cd626530",
   "metadata": {},
   "source": [
    "# Reading Files"
   ]
  },
  {
   "cell_type": "code",
   "execution_count": 1,
   "id": "9cae7fee",
   "metadata": {},
   "outputs": [
    {
     "data": {
      "text/html": [
       "<div>\n",
       "<style scoped>\n",
       "    .dataframe tbody tr th:only-of-type {\n",
       "        vertical-align: middle;\n",
       "    }\n",
       "\n",
       "    .dataframe tbody tr th {\n",
       "        vertical-align: top;\n",
       "    }\n",
       "\n",
       "    .dataframe thead th {\n",
       "        text-align: right;\n",
       "    }\n",
       "</style>\n",
       "<table border=\"1\" class=\"dataframe\">\n",
       "  <thead>\n",
       "    <tr style=\"text-align: right;\">\n",
       "      <th></th>\n",
       "      <th>sequence</th>\n",
       "      <th>cluster</th>\n",
       "    </tr>\n",
       "  </thead>\n",
       "  <tbody>\n",
       "    <tr>\n",
       "      <th>0</th>\n",
       "      <td>TCTATCTGGGGAACACTACTCCCTGAACCGAGCGGTCAGATATTTG...</td>\n",
       "      <td>0</td>\n",
       "    </tr>\n",
       "    <tr>\n",
       "      <th>1</th>\n",
       "      <td>TCTATCTGGGGAACACTACTGCCCTGAACCAGAGCGGCAGATATTT...</td>\n",
       "      <td>0</td>\n",
       "    </tr>\n",
       "    <tr>\n",
       "      <th>2</th>\n",
       "      <td>TCTATCTGGGGAACATTACTCCCGTGAACCGAGCGGTCAGTATTTG...</td>\n",
       "      <td>0</td>\n",
       "    </tr>\n",
       "    <tr>\n",
       "      <th>3</th>\n",
       "      <td>TCTTCTGGGGAACACTACCTCCCTGAACCGAGCCGGTCAGATATTT...</td>\n",
       "      <td>0</td>\n",
       "    </tr>\n",
       "    <tr>\n",
       "      <th>4</th>\n",
       "      <td>TCTATCTGGGGAACACTACTCCCTGAACCGAGCGGTCAGATATTTG...</td>\n",
       "      <td>0</td>\n",
       "    </tr>\n",
       "  </tbody>\n",
       "</table>\n",
       "</div>"
      ],
      "text/plain": [
       "                                            sequence cluster\n",
       "0  TCTATCTGGGGAACACTACTCCCTGAACCGAGCGGTCAGATATTTG...       0\n",
       "1  TCTATCTGGGGAACACTACTGCCCTGAACCAGAGCGGCAGATATTT...       0\n",
       "2  TCTATCTGGGGAACATTACTCCCGTGAACCGAGCGGTCAGTATTTG...       0\n",
       "3  TCTTCTGGGGAACACTACCTCCCTGAACCGAGCCGGTCAGATATTT...       0\n",
       "4  TCTATCTGGGGAACACTACTCCCTGAACCGAGCGGTCAGATATTTG...       0"
      ]
     },
     "execution_count": 1,
     "metadata": {},
     "output_type": "execute_result"
    }
   ],
   "source": [
    "from Bio import SeqIO\n",
    "import pandas as pd\n",
    "n_clusters   = 200\n",
    "all_datasets = {}\n",
    "row          = 0\n",
    "df           = pd.DataFrame(columns = ['sequence', 'cluster'])\n",
    "for cluster in range(1, n_clusters+1):\n",
    "    all_datasets[cluster] = []\n",
    "    # File path to your FASTA file\n",
    "    path_to_file          = f'datasets/template_{cluster}.fa' # <--- substitute by your local path\n",
    "    # Open file with \"with\" statement to avoid problems with access \n",
    "    # to original file (in case computer hangs\n",
    "    # or there will be any other problem)\n",
    "    with open(path_to_file, mode='r') as handle:\n",
    "        # Use Biopython's parse function to process individual\n",
    "        # FASTA records (thus reducing memory footprint)\n",
    "        for record in SeqIO.parse(handle, 'fasta'):\n",
    "            # Extract individual parts of the FASTA record\n",
    "            identifier  = record.id\n",
    "            description = record.description\n",
    "            sequence    = record.seq\n",
    "            #append to the datest\n",
    "            all_datasets[cluster].append(str(sequence).upper())\n",
    "            df.loc[row, 'sequence'] = str(sequence).upper()\n",
    "            df.loc[row, 'cluster']  = cluster-1\n",
    "            row                    += 1\n",
    "df.head()"
   ]
  },
  {
   "cell_type": "markdown",
   "id": "9a457ef1",
   "metadata": {},
   "source": [
    "# Running the Model for both RF and DT"
   ]
  },
  {
   "cell_type": "code",
   "execution_count": 2,
   "id": "a4218294",
   "metadata": {},
   "outputs": [
    {
     "name": "stderr",
     "output_type": "stream",
     "text": [
      "Matrix Segmentation (Splitting based on window size):   6%|▌         | 873/14993 [00:00<00:03, 4435.79it/s]"
     ]
    },
    {
     "name": "stdout",
     "output_type": "stream",
     "text": [
      "Finding the parameter 'n'\n",
      "Parameter 'n' is set to 18\n"
     ]
    },
    {
     "name": "stderr",
     "output_type": "stream",
     "text": [
      "Matrix Segmentation (Splitting based on window size): 100%|██████████| 14993/14993 [00:04<00:00, 3588.38it/s]\n"
     ]
    },
    {
     "name": "stdout",
     "output_type": "stream",
     "text": [
      "one-hot encoding + x/y train\n",
      "Fit DT\n",
      "DataFrame of terminal nodes\n",
      "Determining the cosine Distance\n",
      "Applying Ward Linkage\n",
      "Cutting The Tree\n",
      "Fit DT + POSITION\n",
      "DataFrame of terminal nodes\n",
      "Determining the cosine Distance\n",
      "Applying Ward Linkage\n",
      "Cutting The Tree\n",
      "Fit RF\n",
      "DataFrame of terminal nodes\n",
      "Determining the cosine Distance\n",
      "Applying Ward Linkage\n",
      "Cutting The Tree\n",
      "Fit RF + POSITION\n",
      "DataFrame of terminal nodes\n",
      "Determining the cosine Distance\n",
      "Applying Ward Linkage\n",
      "Cutting The Tree\n"
     ]
    }
   ],
   "source": [
    "import nTreeClus\n",
    "model = nTreeClus.nTreeClus(list(df.sequence), n=None, ntree=5, method=\"All\", verbose=1, C=n_clusters)\n",
    "model.nTreeClus()"
   ]
  },
  {
   "cell_type": "markdown",
   "id": "bda809bb",
   "metadata": {},
   "source": [
    "# Performance Report"
   ]
  },
  {
   "cell_type": "code",
   "execution_count": 3,
   "id": "6f2e98db",
   "metadata": {},
   "outputs": [
    {
     "data": {
      "text/html": [
       "<div>\n",
       "<style scoped>\n",
       "    .dataframe tbody tr th:only-of-type {\n",
       "        vertical-align: middle;\n",
       "    }\n",
       "\n",
       "    .dataframe tbody tr th {\n",
       "        vertical-align: top;\n",
       "    }\n",
       "\n",
       "    .dataframe thead th {\n",
       "        text-align: right;\n",
       "    }\n",
       "</style>\n",
       "<table border=\"1\" class=\"dataframe\">\n",
       "  <thead>\n",
       "    <tr style=\"text-align: right;\">\n",
       "      <th></th>\n",
       "      <th>F1S</th>\n",
       "      <th>ARS</th>\n",
       "      <th>RS</th>\n",
       "      <th>Pur</th>\n",
       "      <th>Sil</th>\n",
       "      <th>1NN</th>\n",
       "    </tr>\n",
       "  </thead>\n",
       "  <tbody>\n",
       "    <tr>\n",
       "      <th>DT</th>\n",
       "      <td>1.0</td>\n",
       "      <td>1.0</td>\n",
       "      <td>1.0</td>\n",
       "      <td>1.0</td>\n",
       "      <td>0.921</td>\n",
       "      <td>1.0</td>\n",
       "    </tr>\n",
       "    <tr>\n",
       "      <th>RF</th>\n",
       "      <td>1.0</td>\n",
       "      <td>1.0</td>\n",
       "      <td>1.0</td>\n",
       "      <td>1.0</td>\n",
       "      <td>0.930</td>\n",
       "      <td>1.0</td>\n",
       "    </tr>\n",
       "    <tr>\n",
       "      <th>DT_p</th>\n",
       "      <td>1.0</td>\n",
       "      <td>1.0</td>\n",
       "      <td>1.0</td>\n",
       "      <td>1.0</td>\n",
       "      <td>0.815</td>\n",
       "      <td>1.0</td>\n",
       "    </tr>\n",
       "    <tr>\n",
       "      <th>RF_p</th>\n",
       "      <td>1.0</td>\n",
       "      <td>1.0</td>\n",
       "      <td>1.0</td>\n",
       "      <td>1.0</td>\n",
       "      <td>0.871</td>\n",
       "      <td>1.0</td>\n",
       "    </tr>\n",
       "  </tbody>\n",
       "</table>\n",
       "</div>"
      ],
      "text/plain": [
       "      F1S  ARS   RS  Pur    Sil  1NN\n",
       "DT    1.0  1.0  1.0  1.0  0.921  1.0\n",
       "RF    1.0  1.0  1.0  1.0  0.930  1.0\n",
       "DT_p  1.0  1.0  1.0  1.0  0.815  1.0\n",
       "RF_p  1.0  1.0  1.0  1.0  0.871  1.0"
      ]
     },
     "execution_count": 3,
     "metadata": {},
     "output_type": "execute_result"
    }
   ],
   "source": [
    "labels = list(df.cluster)\n",
    "model.performance(Ground_Truth = labels)"
   ]
  },
  {
   "cell_type": "markdown",
   "id": "b4119525",
   "metadata": {},
   "source": [
    "# Executing Time (Sec.)"
   ]
  },
  {
   "cell_type": "code",
   "execution_count": 4,
   "id": "ad4f11a9",
   "metadata": {},
   "outputs": [
    {
     "name": "stdout",
     "output_type": "stream",
     "text": [
      "\n",
      "      running_time Matrix Segmentation: 9 seconds,\n",
      "      running_time DT: 69 seconds,\n",
      "      running_time DT_p: 74 seconds,\n",
      "      running_time RF: 136 seconds,\n",
      "      running_time RF_p: 143 seconds.\n",
      "      \n"
     ]
    }
   ],
   "source": [
    "print(f\"\"\"\n",
    "      running_time Matrix Segmentation: {model.running_timeSegmentation} seconds,\n",
    "      running_time DT: {model.running_timeDT} seconds,\n",
    "      running_time DT_p: {model.running_timeDT_p} seconds,\n",
    "      running_time RF: {model.running_timeRF} seconds,\n",
    "      running_time RF_p: {model.running_timeRF_p} seconds.\n",
    "      \"\"\")"
   ]
  },
  {
   "cell_type": "code",
   "execution_count": 5,
   "id": "d3be0b82",
   "metadata": {},
   "outputs": [
    {
     "data": {
      "text/plain": [
       "{'platform': 'Linux',\n",
       " 'platform-release': '4.9.0-11-amd64',\n",
       " 'platform-version': '#1 SMP Debian 4.9.189-3 (2019-09-02)',\n",
       " 'architecture': 'x86_64',\n",
       " 'processor': 'Processor: Intel(R) Core(TM) i9-9900K CPU @ 3.60GHz',\n",
       " 'ram': '126 GB'}"
      ]
     },
     "execution_count": 5,
     "metadata": {},
     "output_type": "execute_result"
    }
   ],
   "source": [
    "import platform,json,psutil,logging,cpuinfo\n",
    "\n",
    "def getSystemInfo():\n",
    "    try:\n",
    "        info={}\n",
    "        info['platform']=platform.system()\n",
    "        info['platform-release']=platform.release()\n",
    "        info['platform-version']=platform.version()\n",
    "        info['architecture']=platform.machine()\n",
    "        info['processor']=f\"Processor: {cpuinfo.get_cpu_info()['brand_raw']}\"\n",
    "        info['ram']=str(round(psutil.virtual_memory().total / (1024.0 **3)))+\" GB\"\n",
    "        return json.dumps(info)\n",
    "    except Exception as e:\n",
    "        logging.exception(e)\n",
    "\n",
    "json.loads(getSystemInfo())"
   ]
  }
 ],
 "metadata": {
  "kernelspec": {
   "display_name": "Python 3",
   "language": "python",
   "name": "python3"
  },
  "language_info": {
   "codemirror_mode": {
    "name": "ipython",
    "version": 3
   },
   "file_extension": ".py",
   "mimetype": "text/x-python",
   "name": "python",
   "nbconvert_exporter": "python",
   "pygments_lexer": "ipython3",
   "version": "3.7.0"
  },
  "toc": {
   "base_numbering": 1,
   "nav_menu": {},
   "number_sections": true,
   "sideBar": true,
   "skip_h1_title": false,
   "title_cell": "Table of Contents",
   "title_sidebar": "Contents",
   "toc_cell": false,
   "toc_position": {},
   "toc_section_display": true,
   "toc_window_display": false
  }
 },
 "nbformat": 4,
 "nbformat_minor": 5
}
