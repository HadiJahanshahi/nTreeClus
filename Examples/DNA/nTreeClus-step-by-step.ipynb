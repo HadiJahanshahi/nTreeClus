{
 "cells": [
  {
   "cell_type": "markdown",
   "id": "b65ee2e3",
   "metadata": {},
   "source": [
    "# Reading Files"
   ]
  },
  {
   "cell_type": "code",
   "execution_count": 2,
   "id": "19634d7a",
   "metadata": {},
   "outputs": [],
   "source": [
    "from Bio import SeqIO\n",
    "import pandas as pd\n",
    "n_clusters = 200\n",
    "all_datasets = {}\n",
    "row = 0\n",
    "df = pd.DataFrame(columns = ['sequence', 'cluster'])\n",
    "for cluster in range(1, n_clusters+1):\n",
    "    all_datasets[cluster] = []\n",
    "    # File path to your FASTA file\n",
    "    path_to_file = f'datasets\template_{cluster}.fa'   # <--- substitute by your local path\n",
    "\n",
    "    # Open file with \"with\" statement to avoid problems with access \n",
    "    # to original file (in case computer hangs\n",
    "    # or there will be any other problem)\n",
    "    with open(path_to_file, mode='r') as handle:\n",
    "\n",
    "        # Use Biopython's parse function to process individual\n",
    "        # FASTA records (thus reducing memory footprint)\n",
    "        for record in SeqIO.parse(handle, 'fasta'):\n",
    "\n",
    "            # Extract individual parts of the FASTA record\n",
    "            identifier = record.id\n",
    "            description = record.description\n",
    "            sequence = record.seq\n",
    "            \n",
    "            #append to the datest\n",
    "            all_datasets[cluster].append(str(sequence).upper())\n",
    "            df.loc[row, 'sequence'] = str(sequence).upper()\n",
    "            df.loc[row, 'cluster'] = cluster\n",
    "            row += 1"
   ]
  },
  {
   "cell_type": "markdown",
   "id": "3e882025",
   "metadata": {},
   "source": [
    "# Importing nTreeClus"
   ]
  },
  {
   "cell_type": "code",
   "execution_count": 1,
   "id": "e44f0915",
   "metadata": {},
   "outputs": [],
   "source": [
    "import nTreeClus\n",
    "from nTreeClus import nTreeClus"
   ]
  },
  {
   "cell_type": "markdown",
   "id": "024b6e57",
   "metadata": {},
   "source": [
    "# Running the Model for both RF and DT"
   ]
  },
  {
   "cell_type": "code",
   "execution_count": 3,
   "id": "0fb1388a",
   "metadata": {},
   "outputs": [
    {
     "name": "stderr",
     "output_type": "stream",
     "text": [
      "\r",
      "Matrix Segmentation (Splitting based on window size):   0%|                                  | 0/14993 [00:00<?, ?it/s]"
     ]
    },
    {
     "name": "stdout",
     "output_type": "stream",
     "text": [
      "Finding the parameter 'n'\n"
     ]
    },
    {
     "name": "stderr",
     "output_type": "stream",
     "text": [
      "Matrix Segmentation (Splitting based on window size): 100%|████████████████████| 14993/14993 [00:05<00:00, 2572.78it/s]\n"
     ]
    },
    {
     "name": "stdout",
     "output_type": "stream",
     "text": [
      "one-hot encoding + x/y train\n",
      "Fit DT\n",
      "DataFrame of terminal nodes\n",
      "Determining the cosine Distance\n",
      "Applying Ward Linkage\n",
      "Cutting The Tree\n",
      "Fit RF\n",
      "DataFrame of terminal nodes\n",
      "Determining the cosine Distance\n",
      "Applying Ward Linkage\n",
      "Cutting The Tree\n"
     ]
    }
   ],
   "source": [
    "model = nTreeClus(list(df.sequence), n=None, ntree=5, method=\"All\", verbose=1, C=n_clusters)\n",
    "model.nTreeClus()"
   ]
  },
  {
   "cell_type": "code",
   "execution_count": 4,
   "id": "90f916b5",
   "metadata": {},
   "outputs": [
    {
     "data": {
      "text/html": [
       "<div>\n",
       "<style scoped>\n",
       "    .dataframe tbody tr th:only-of-type {\n",
       "        vertical-align: middle;\n",
       "    }\n",
       "\n",
       "    .dataframe tbody tr th {\n",
       "        vertical-align: top;\n",
       "    }\n",
       "\n",
       "    .dataframe thead th {\n",
       "        text-align: right;\n",
       "    }\n",
       "</style>\n",
       "<table border=\"1\" class=\"dataframe\">\n",
       "  <thead>\n",
       "    <tr style=\"text-align: right;\">\n",
       "      <th></th>\n",
       "      <th>F1S</th>\n",
       "      <th>ARS</th>\n",
       "      <th>RS</th>\n",
       "      <th>Pur</th>\n",
       "      <th>Sil</th>\n",
       "    </tr>\n",
       "  </thead>\n",
       "  <tbody>\n",
       "    <tr>\n",
       "      <th>DT</th>\n",
       "      <td>1.0</td>\n",
       "      <td>1.0</td>\n",
       "      <td>1.0</td>\n",
       "      <td>1.0</td>\n",
       "      <td>0.921</td>\n",
       "    </tr>\n",
       "    <tr>\n",
       "      <th>RF</th>\n",
       "      <td>1.0</td>\n",
       "      <td>1.0</td>\n",
       "      <td>1.0</td>\n",
       "      <td>1.0</td>\n",
       "      <td>0.930</td>\n",
       "    </tr>\n",
       "  </tbody>\n",
       "</table>\n",
       "</div>"
      ],
      "text/plain": [
       "    F1S  ARS   RS  Pur    Sil\n",
       "DT  1.0  1.0  1.0  1.0  0.921\n",
       "RF  1.0  1.0  1.0  1.0  0.930"
      ]
     },
     "execution_count": 4,
     "metadata": {},
     "output_type": "execute_result"
    }
   ],
   "source": [
    "YY = list(df.cluster-1)\n",
    "model.performance(YY)"
   ]
  }
 ],
 "metadata": {
  "kernelspec": {
   "display_name": "Python 3",
   "language": "python",
   "name": "python3"
  },
  "language_info": {
   "codemirror_mode": {
    "name": "ipython",
    "version": 3
   },
   "file_extension": ".py",
   "mimetype": "text/x-python",
   "name": "python",
   "nbconvert_exporter": "python",
   "pygments_lexer": "ipython3",
   "version": "3.7.10"
  },
  "toc": {
   "base_numbering": 1,
   "nav_menu": {},
   "number_sections": true,
   "sideBar": true,
   "skip_h1_title": false,
   "title_cell": "Table of Contents",
   "title_sidebar": "Contents",
   "toc_cell": false,
   "toc_position": {},
   "toc_section_display": true,
   "toc_window_display": false
  }
 },
 "nbformat": 4,
 "nbformat_minor": 5
}
